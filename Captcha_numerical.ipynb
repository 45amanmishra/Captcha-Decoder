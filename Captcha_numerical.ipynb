{
  "nbformat": 4,
  "nbformat_minor": 0,
  "metadata": {
    "accelerator": "GPU",
    "colab": {
      "provenance": [],
      "collapsed_sections": []
    },
    "kernelspec": {
      "display_name": "Python 3",
      "name": "python3"
    }
  },
  "cells": [
    {
      "cell_type": "code",
      "metadata": {
        "colab": {
          "base_uri": "https://localhost:8080/"
        },
        "id": "6Tzheb9xoLiD",
        "outputId": "c790e761-adce-45aa-8c1d-f3ec3f6441fd"
      },
      "source": [
        "%pip install captcha \n",
        "%pip install opencv-python\n",
        "!apt update && apt install -y libsm6 libxext6\n",
        "!pip install opencv-python-headless\n",
        "!pip install opencv-contrib-python-headless\n",
        "%pip install keras\n",
        "\n",
        "\n",
        "import argparse\n",
        "import json\n",
        "import string\n",
        "import os\n",
        "import shutil\n",
        "import uuid\n",
        "from captcha.image import ImageCaptcha\n",
        "\n",
        "import itertools\n",
        "\n",
        "import os\n",
        "import cv2\n",
        "import numpy as np\n",
        "from random import random, randint, choices\n",
        "\n",
        "import keras\n",
        "from keras.models import Sequential, Model\n",
        "from keras.layers import Dense, Dropout, Activation, Flatten\n",
        "from keras.layers import Conv2D, MaxPooling2D, Input\n",
        "import matplotlib.pyplot as plt"
      ],
      "execution_count": null,
      "outputs": [
        {
          "name": "stdout",
          "output_type": "stream",
          "text": [
            "Collecting captcha\n",
            "  Downloading captcha-0.3-py3-none-any.whl (101 kB)\n",
            "\u001b[?25l\r\u001b[K     |███▎                            | 10 kB 20.8 MB/s eta 0:00:01\r\u001b[K     |██████▌                         | 20 kB 23.0 MB/s eta 0:00:01\r\u001b[K     |█████████▊                      | 30 kB 11.7 MB/s eta 0:00:01\r\u001b[K     |█████████████                   | 40 kB 9.4 MB/s eta 0:00:01\r\u001b[K     |████████████████▏               | 51 kB 5.3 MB/s eta 0:00:01\r\u001b[K     |███████████████████▍            | 61 kB 5.8 MB/s eta 0:00:01\r\u001b[K     |██████████████████████▋         | 71 kB 5.5 MB/s eta 0:00:01\r\u001b[K     |█████████████████████████▉      | 81 kB 6.2 MB/s eta 0:00:01\r\u001b[K     |█████████████████████████████   | 92 kB 4.8 MB/s eta 0:00:01\r\u001b[K     |████████████████████████████████| 101 kB 3.7 MB/s \n",
            "\u001b[?25hRequirement already satisfied: Pillow in /usr/local/lib/python3.7/dist-packages (from captcha) (7.1.2)\n",
            "Installing collected packages: captcha\n",
            "Successfully installed captcha-0.3\n",
            "Requirement already satisfied: opencv-python in /usr/local/lib/python3.7/dist-packages (4.1.2.30)\n",
            "Requirement already satisfied: numpy>=1.14.5 in /usr/local/lib/python3.7/dist-packages (from opencv-python) (1.19.5)\n",
            "Get:1 https://cloud.r-project.org/bin/linux/ubuntu bionic-cran40/ InRelease [3,626 B]\n",
            "Ign:2 https://developer.download.nvidia.com/compute/cuda/repos/ubuntu1804/x86_64  InRelease\n",
            "Get:3 http://security.ubuntu.com/ubuntu bionic-security InRelease [88.7 kB]\n",
            "Get:4 http://ppa.launchpad.net/c2d4u.team/c2d4u4.0+/ubuntu bionic InRelease [15.9 kB]\n",
            "Ign:5 https://developer.download.nvidia.com/compute/machine-learning/repos/ubuntu1804/x86_64  InRelease\n",
            "Hit:6 http://archive.ubuntu.com/ubuntu bionic InRelease\n",
            "Get:7 https://developer.download.nvidia.com/compute/cuda/repos/ubuntu1804/x86_64  Release [696 B]\n",
            "Hit:8 https://developer.download.nvidia.com/compute/machine-learning/repos/ubuntu1804/x86_64  Release\n",
            "Get:9 https://developer.download.nvidia.com/compute/cuda/repos/ubuntu1804/x86_64  Release.gpg [836 B]\n",
            "Get:10 http://archive.ubuntu.com/ubuntu bionic-updates InRelease [88.7 kB]\n",
            "Get:11 https://cloud.r-project.org/bin/linux/ubuntu bionic-cran40/ Packages [69.5 kB]\n",
            "Hit:12 http://ppa.launchpad.net/cran/libgit2/ubuntu bionic InRelease\n",
            "Hit:13 http://ppa.launchpad.net/deadsnakes/ppa/ubuntu bionic InRelease\n",
            "Get:14 http://archive.ubuntu.com/ubuntu bionic-backports InRelease [74.6 kB]\n",
            "Hit:16 http://ppa.launchpad.net/graphics-drivers/ppa/ubuntu bionic InRelease\n",
            "Get:17 https://developer.download.nvidia.com/compute/cuda/repos/ubuntu1804/x86_64  Packages [753 kB]\n",
            "Get:18 http://security.ubuntu.com/ubuntu bionic-security/restricted amd64 Packages [630 kB]\n",
            "Get:19 http://security.ubuntu.com/ubuntu bionic-security/main amd64 Packages [2,396 kB]\n",
            "Get:20 http://security.ubuntu.com/ubuntu bionic-security/universe amd64 Packages [1,434 kB]\n",
            "Get:21 http://ppa.launchpad.net/c2d4u.team/c2d4u4.0+/ubuntu bionic/main Sources [1,809 kB]\n",
            "Get:22 http://archive.ubuntu.com/ubuntu bionic-updates/universe amd64 Packages [2,213 kB]\n",
            "Get:23 http://ppa.launchpad.net/c2d4u.team/c2d4u4.0+/ubuntu bionic/main amd64 Packages [926 kB]\n",
            "Get:24 http://archive.ubuntu.com/ubuntu bionic-updates/main amd64 Packages [2,835 kB]\n",
            "Get:25 http://archive.ubuntu.com/ubuntu bionic-updates/restricted amd64 Packages [665 kB]\n",
            "Fetched 14.0 MB in 3s (4,227 kB/s)\n",
            "Reading package lists... Done\n",
            "Building dependency tree       \n",
            "Reading state information... Done\n",
            "68 packages can be upgraded. Run 'apt list --upgradable' to see them.\n",
            "Reading package lists... Done\n",
            "Building dependency tree       \n",
            "Reading state information... Done\n",
            "libsm6 is already the newest version (2:1.2.2-1).\n",
            "libxext6 is already the newest version (2:1.3.3-1).\n",
            "0 upgraded, 0 newly installed, 0 to remove and 68 not upgraded.\n",
            "Collecting opencv-python-headless\n",
            "  Downloading opencv_python_headless-4.5.4.58-cp37-cp37m-manylinux2014_x86_64.whl (47.6 MB)\n",
            "\u001b[K     |████████████████████████████████| 47.6 MB 37 kB/s \n",
            "\u001b[?25hRequirement already satisfied: numpy>=1.14.5 in /usr/local/lib/python3.7/dist-packages (from opencv-python-headless) (1.19.5)\n",
            "Installing collected packages: opencv-python-headless\n",
            "Successfully installed opencv-python-headless-4.5.4.58\n",
            "Collecting opencv-contrib-python-headless\n",
            "  Downloading opencv_contrib_python_headless-4.5.4.58-cp37-cp37m-manylinux2014_x86_64.whl (53.8 MB)\n",
            "\u001b[K     |████████████████████████████████| 53.8 MB 54 kB/s \n",
            "\u001b[?25hRequirement already satisfied: numpy>=1.14.5 in /usr/local/lib/python3.7/dist-packages (from opencv-contrib-python-headless) (1.19.5)\n",
            "Installing collected packages: opencv-contrib-python-headless\n",
            "Successfully installed opencv-contrib-python-headless-4.5.4.58\n",
            "Requirement already satisfied: keras in /usr/local/lib/python3.7/dist-packages (2.6.0)\n"
          ]
        }
      ]
    },
    {
      "cell_type": "code",
      "metadata": {
        "id": "yuX06GVdok0-"
      },
      "source": [
        "def _gen_captcha(img_dir, num_of_letters, num_of_repetition, width, height):\n",
        "    if os.path.exists(img_dir):\n",
        "        shutil.rmtree(img_dir)\n",
        "    if not os.path.exists(img_dir):\n",
        "        os.makedirs(img_dir)\n",
        "\n",
        "    image = ImageCaptcha(width=width, height=height)\n",
        "\n",
        "    for counter in range(num_of_repetition):\n",
        "        print('generating %d/%d' % (counter + 1, num_of_repetition))\n",
        "        for i in itertools.permutations([str(c) for c in range(10)], num_of_letters):\n",
        "            captcha = ''.join(i)\n",
        "            fn = os.path.join(img_dir, '%s_%s.png' % (captcha, uuid.uuid4()))\n",
        "            image.write(captcha, fn)\n",
        "\n",
        "\n",
        "def gen_dataset(path, num_of_repetition, num_of_letters, width, height):\n",
        "    _gen_captcha(os.path.join(path, 'data'), num_of_letters, num_of_repetition, width, height)\n",
        "    print('Finished Data Generation')"
      ],
      "execution_count": null,
      "outputs": []
    },
    {
      "cell_type": "code",
      "metadata": {
        "id": "MQYOsJyioy5g"
      },
      "source": [
        "BATCH_SIZE = 128\n",
        "NUM_OF_LETTERS = 5\n",
        "EPOCHS = 50\n",
        "IMG_ROW, IMG_COLS = 50, 135\n",
        "\n",
        "\n",
        "# Non-configs\n",
        "PATH = os.getcwd()\n",
        "DATA_PATH = os.path.join(PATH, 'train')"
      ],
      "execution_count": null,
      "outputs": []
    },
    {
      "cell_type": "code",
      "metadata": {
        "id": "ItSQ3uTvo5YW"
      },
      "source": [
        "def load_data(path, test_split=0.1):\n",
        "    print ('loading dataset...')\n",
        "    y_train = []\n",
        "    y_test = []\n",
        "    x_train = []\n",
        "    x_test = []\n",
        "\n",
        "    # r=root, d=directories, f = files\n",
        "    counter = 0\n",
        "    for r, d, f in os.walk(path):\n",
        "        for fl in f:\n",
        "            if '.png' in fl:\n",
        "                flr = fl.split('_')[0]\n",
        "                counter += 1\n",
        "                label = np.zeros((NUM_OF_LETTERS, 10))\n",
        "                for i in range(NUM_OF_LETTERS):\n",
        "                    label[i, int(flr[i])] = 1\n",
        "\n",
        "                img = cv2.imread(os.path.join(r, fl))\n",
        "                img = cv2.cvtColor(img, cv2.COLOR_BGR2GRAY)\n",
        "                img = cv2.resize(img, (int(135/2), int(50/2)), interpolation=cv2.INTER_AREA)\n",
        "                img = np.reshape(img, (img.shape[0], img.shape[1], 1))\n",
        "\n",
        "                if random() < test_split:\n",
        "                    y_test.append(label)\n",
        "                    x_test.append(img)\n",
        "                else:\n",
        "                    y_train.append(label)\n",
        "                    x_train.append(img)\n",
        "\n",
        "    print('dataset size:', counter, '(train=%d, test=%d)' % (len(y_train), len(y_test)))\n",
        "    return np.array(x_train), np.array(y_train), np.array(x_test), np.array(y_test)\n"
      ],
      "execution_count": null,
      "outputs": []
    },
    {
      "cell_type": "code",
      "metadata": {
        "id": "bCqtzWWvo798"
      },
      "source": [
        "if not os.path.exists(DATA_PATH):\n",
        "    print('Generating Dataset')\n",
        "    gen_dataset(DATA_PATH, 8 , NUM_OF_LETTERS, IMG_COLS, IMG_ROW)"
      ],
      "execution_count": 6,
      "outputs": []
    },
    {
      "cell_type": "code",
      "metadata": {
        "colab": {
          "base_uri": "https://localhost:8080/"
        },
        "id": "AenCMkmco-jv",
        "outputId": "4681931e-ed1a-44bd-d999-1b6abbe1bdc1"
      },
      "source": [
        "x_train, y_train, x_test, y_test = load_data(DATA_PATH)\n",
        "x_train = x_train.astype('float32')\n",
        "x_test = x_test.astype('float32')\n",
        "x_train /= 255\n",
        "x_test /= 255"
      ],
      "execution_count": 7,
      "outputs": [
        {
          "output_type": "stream",
          "name": "stdout",
          "text": [
            "loading dataset...\n",
            "dataset size: 45245 (train=40823, test=4422)\n"
          ]
        }
      ]
    },
    {
      "cell_type": "code",
      "metadata": {
        "colab": {
          "base_uri": "https://localhost:8080/"
        },
        "id": "zqV-rssUuhIy",
        "outputId": "c8065e2f-b396-40fa-ab03-7be3518c5443"
      },
      "source": [
        "print(x_train.shape)\n",
        "print(y_train.shape)\n",
        "print(x_test.shape)\n",
        "print(y_test.shape)"
      ],
      "execution_count": 8,
      "outputs": [
        {
          "output_type": "stream",
          "name": "stdout",
          "text": [
            "(40823, 25, 67, 1)\n",
            "(40823, 5, 10)\n",
            "(4422, 25, 67, 1)\n",
            "(4422, 5, 10)\n"
          ]
        }
      ]
    },
    {
      "cell_type": "code",
      "metadata": {
        "id": "eASawvTyvMaL"
      },
      "source": [
        "s_train = []\n",
        "s_test = []\n",
        "for i in range(NUM_OF_LETTERS):\n",
        "    s_train.append(y_train[:, i, :])\n",
        "    s_test.append(y_test[:, i, :])"
      ],
      "execution_count": 9,
      "outputs": []
    },
    {
      "cell_type": "code",
      "metadata": {
        "id": "DCom2NFKvVF0"
      },
      "source": [
        "save_dir = os.path.join(PATH, 'saved_models')\n",
        "model_name = 'keras_cifar10_trained_model.h5'"
      ],
      "execution_count": 10,
      "outputs": []
    },
    {
      "cell_type": "code",
      "metadata": {
        "id": "XS0vWhEuvXgo"
      },
      "source": [
        "input_layer = Input((25, 67, 1))\n",
        "x = Conv2D(filters=32, kernel_size=(5, 5), padding='same', activation='relu')(input_layer)\n",
        "x = MaxPooling2D(pool_size=(2, 2))(x)\n",
        "\n",
        "x = Conv2D(filters=48, kernel_size=(5, 5), padding='same', activation='relu')(x)\n",
        "x = MaxPooling2D(pool_size=(2, 2))(x)\n",
        "\n",
        "x = Conv2D(filters=64, kernel_size=(5, 5), padding='same', activation='relu')(x)\n",
        "x = MaxPooling2D(pool_size=(2, 2))(x)\n",
        "\n",
        "x = Dropout(0.3)(x)\n",
        "x = Flatten()(x)\n",
        "x = Dense(512, activation='relu')(x)\n",
        "x = Dropout(0.3)(x)\n",
        "\n",
        "out = [Dense(10, name='digit%d' % i, activation='softmax')(x) for i in range(NUM_OF_LETTERS)]\n",
        "model = Model(inputs=input_layer, outputs=out)"
      ],
      "execution_count": 11,
      "outputs": []
    },
    {
      "cell_type": "code",
      "metadata": {
        "colab": {
          "background_save": true
        },
        "id": "_1aTZ32pvZpl"
      },
      "source": [
        "# Uncomment these if you want to load and continue an already trained network\n",
        "\n",
        "# model_path = os.path.join(save_dir, model_name)\n",
        "# model = keras.models.load_model(model_path)"
      ],
      "execution_count": null,
      "outputs": []
    },
    {
      "cell_type": "code",
      "metadata": {
        "colab": {
          "base_uri": "https://localhost:8080/"
        },
        "id": "mvyFxZTlvfKR",
        "outputId": "14a19bb1-36a1-4e91-ef94-6796f86a157b"
      },
      "source": [
        "# initiate Adam optimizer\n",
        "\n",
        "model.compile(loss='binary_crossentropy',\n",
        "              optimizer='adam',\n",
        "              metrics=['accuracy'])\n",
        "\n",
        "\n",
        "model.summary() "
      ],
      "execution_count": 12,
      "outputs": [
        {
          "output_type": "stream",
          "name": "stdout",
          "text": [
            "Model: \"model\"\n",
            "__________________________________________________________________________________________________\n",
            " Layer (type)                   Output Shape         Param #     Connected to                     \n",
            "==================================================================================================\n",
            " input_1 (InputLayer)           [(None, 25, 67, 1)]  0           []                               \n",
            "                                                                                                  \n",
            " conv2d (Conv2D)                (None, 25, 67, 32)   832         ['input_1[0][0]']                \n",
            "                                                                                                  \n",
            " max_pooling2d (MaxPooling2D)   (None, 12, 33, 32)   0           ['conv2d[0][0]']                 \n",
            "                                                                                                  \n",
            " conv2d_1 (Conv2D)              (None, 12, 33, 48)   38448       ['max_pooling2d[0][0]']          \n",
            "                                                                                                  \n",
            " max_pooling2d_1 (MaxPooling2D)  (None, 6, 16, 48)   0           ['conv2d_1[0][0]']               \n",
            "                                                                                                  \n",
            " conv2d_2 (Conv2D)              (None, 6, 16, 64)    76864       ['max_pooling2d_1[0][0]']        \n",
            "                                                                                                  \n",
            " max_pooling2d_2 (MaxPooling2D)  (None, 3, 8, 64)    0           ['conv2d_2[0][0]']               \n",
            "                                                                                                  \n",
            " dropout (Dropout)              (None, 3, 8, 64)     0           ['max_pooling2d_2[0][0]']        \n",
            "                                                                                                  \n",
            " flatten (Flatten)              (None, 1536)         0           ['dropout[0][0]']                \n",
            "                                                                                                  \n",
            " dense (Dense)                  (None, 512)          786944      ['flatten[0][0]']                \n",
            "                                                                                                  \n",
            " dropout_1 (Dropout)            (None, 512)          0           ['dense[0][0]']                  \n",
            "                                                                                                  \n",
            " digit0 (Dense)                 (None, 10)           5130        ['dropout_1[0][0]']              \n",
            "                                                                                                  \n",
            " digit1 (Dense)                 (None, 10)           5130        ['dropout_1[0][0]']              \n",
            "                                                                                                  \n",
            " digit2 (Dense)                 (None, 10)           5130        ['dropout_1[0][0]']              \n",
            "                                                                                                  \n",
            " digit3 (Dense)                 (None, 10)           5130        ['dropout_1[0][0]']              \n",
            "                                                                                                  \n",
            " digit4 (Dense)                 (None, 10)           5130        ['dropout_1[0][0]']              \n",
            "                                                                                                  \n",
            "==================================================================================================\n",
            "Total params: 928,738\n",
            "Trainable params: 928,738\n",
            "Non-trainable params: 0\n",
            "__________________________________________________________________________________________________\n"
          ]
        }
      ]
    },
    {
      "cell_type": "code",
      "metadata": {
        "id": "xNW40AXivcK7"
      },
      "source": [
        "hist_train_loss_digit = {i:[] for i in range(5)}\n",
        "hist_test_loss_digit = {i:[] for i in range(5)}\n",
        "\n",
        "hist_train_acc_digit = {i:[] for i in range(5)}\n",
        "hist_test_acc_digit = {i:[] for i in range(5)}\n",
        "\n",
        "hist_train_loss = []\n",
        "hist_test_loss = []\n",
        "\n",
        "hist_train_acc = []\n",
        "hist_test_acc = []"
      ],
      "execution_count": 13,
      "outputs": []
    },
    {
      "cell_type": "code",
      "metadata": {
        "id": "VFeIxaatvhap"
      },
      "source": [
        "digit_acc = [[] for _ in range(NUM_OF_LETTERS)]\n",
        "val_digit_acc = [[] for _ in range(NUM_OF_LETTERS)]\n",
        "loss = []\n",
        "val_loss = []"
      ],
      "execution_count": 14,
      "outputs": []
    },
    {
      "cell_type": "code",
      "metadata": {
        "id": "IQTy-mCRvjIz",
        "colab": {
          "base_uri": "https://localhost:8080/"
        },
        "outputId": "d5ea9e24-c780-4a75-8be4-7cdfa18e9c69"
      },
      "source": [
        "history = model.fit(x_train, s_train,\n",
        "                    batch_size=BATCH_SIZE,\n",
        "                    epochs=EPOCHS,\n",
        "                    verbose=1,\n",
        "                    validation_data=(x_test, s_test)\n",
        "                   )"
      ],
      "execution_count": 15,
      "outputs": [
        {
          "output_type": "stream",
          "name": "stdout",
          "text": [
            "Epoch 1/50\n",
            "319/319 [==============================] - 15s 17ms/step - loss: 1.6662 - digit0_loss: 0.3282 - digit1_loss: 0.3343 - digit2_loss: 0.3345 - digit3_loss: 0.3346 - digit4_loss: 0.3346 - digit0_accuracy: 0.1357 - digit1_accuracy: 0.1004 - digit2_accuracy: 0.1013 - digit3_accuracy: 0.0977 - digit4_accuracy: 0.0985 - val_loss: 1.6222 - val_digit0_loss: 0.3196 - val_digit1_loss: 0.3259 - val_digit2_loss: 0.3256 - val_digit3_loss: 0.3258 - val_digit4_loss: 0.3253 - val_digit0_accuracy: 0.1330 - val_digit1_accuracy: 0.1043 - val_digit2_accuracy: 0.0929 - val_digit3_accuracy: 0.0948 - val_digit4_accuracy: 0.1036\n",
            "Epoch 2/50\n",
            "319/319 [==============================] - 5s 15ms/step - loss: 1.4961 - digit0_loss: 0.2839 - digit1_loss: 0.3068 - digit2_loss: 0.3088 - digit3_loss: 0.3057 - digit4_loss: 0.2909 - digit0_accuracy: 0.2940 - digit1_accuracy: 0.2025 - digit2_accuracy: 0.1993 - digit3_accuracy: 0.2073 - digit4_accuracy: 0.2584 - val_loss: 1.0316 - val_digit0_loss: 0.1641 - val_digit1_loss: 0.2305 - val_digit2_loss: 0.2358 - val_digit3_loss: 0.2272 - val_digit4_loss: 0.1740 - val_digit0_accuracy: 0.7008 - val_digit1_accuracy: 0.5233 - val_digit2_accuracy: 0.5142 - val_digit3_accuracy: 0.5163 - val_digit4_accuracy: 0.6802\n",
            "Epoch 3/50\n",
            "319/319 [==============================] - 5s 16ms/step - loss: 0.8313 - digit0_loss: 0.1116 - digit1_loss: 0.1978 - digit2_loss: 0.2126 - digit3_loss: 0.1886 - digit4_loss: 0.1208 - digit0_accuracy: 0.8154 - digit1_accuracy: 0.6092 - digit2_accuracy: 0.5683 - digit3_accuracy: 0.6334 - digit4_accuracy: 0.8007 - val_loss: 0.5190 - val_digit0_loss: 0.0533 - val_digit1_loss: 0.1286 - val_digit2_loss: 0.1523 - val_digit3_loss: 0.1244 - val_digit4_loss: 0.0605 - val_digit0_accuracy: 0.9351 - val_digit1_accuracy: 0.7895 - val_digit2_accuracy: 0.7320 - val_digit3_accuracy: 0.7990 - val_digit4_accuracy: 0.9231\n",
            "Epoch 4/50\n",
            "319/319 [==============================] - 5s 15ms/step - loss: 0.5489 - digit0_loss: 0.0601 - digit1_loss: 0.1353 - digit2_loss: 0.1592 - digit3_loss: 0.1282 - digit4_loss: 0.0660 - digit0_accuracy: 0.9171 - digit1_accuracy: 0.7669 - digit2_accuracy: 0.7077 - digit3_accuracy: 0.7826 - digit4_accuracy: 0.9077 - val_loss: 0.3511 - val_digit0_loss: 0.0332 - val_digit1_loss: 0.0868 - val_digit2_loss: 0.1115 - val_digit3_loss: 0.0814 - val_digit4_loss: 0.0382 - val_digit0_accuracy: 0.9570 - val_digit1_accuracy: 0.8731 - val_digit2_accuracy: 0.8130 - val_digit3_accuracy: 0.8824 - val_digit4_accuracy: 0.9512\n",
            "Epoch 5/50\n",
            "319/319 [==============================] - 5s 15ms/step - loss: 0.4055 - digit0_loss: 0.0442 - digit1_loss: 0.0990 - digit2_loss: 0.1190 - digit3_loss: 0.0950 - digit4_loss: 0.0484 - digit0_accuracy: 0.9419 - digit1_accuracy: 0.8463 - digit2_accuracy: 0.8010 - digit3_accuracy: 0.8498 - digit4_accuracy: 0.9357 - val_loss: 0.2389 - val_digit0_loss: 0.0235 - val_digit1_loss: 0.0599 - val_digit2_loss: 0.0717 - val_digit3_loss: 0.0577 - val_digit4_loss: 0.0262 - val_digit0_accuracy: 0.9688 - val_digit1_accuracy: 0.9218 - val_digit2_accuracy: 0.8998 - val_digit3_accuracy: 0.9227 - val_digit4_accuracy: 0.9695\n",
            "Epoch 6/50\n",
            "319/319 [==============================] - 5s 15ms/step - loss: 0.3136 - digit0_loss: 0.0342 - digit1_loss: 0.0764 - digit2_loss: 0.0896 - digit3_loss: 0.0750 - digit4_loss: 0.0384 - digit0_accuracy: 0.9570 - digit1_accuracy: 0.8908 - digit2_accuracy: 0.8655 - digit3_accuracy: 0.8903 - digit4_accuracy: 0.9494 - val_loss: 0.1741 - val_digit0_loss: 0.0168 - val_digit1_loss: 0.0429 - val_digit2_loss: 0.0507 - val_digit3_loss: 0.0435 - val_digit4_loss: 0.0202 - val_digit0_accuracy: 0.9778 - val_digit1_accuracy: 0.9450 - val_digit2_accuracy: 0.9398 - val_digit3_accuracy: 0.9441 - val_digit4_accuracy: 0.9733\n",
            "Epoch 7/50\n",
            "319/319 [==============================] - 5s 15ms/step - loss: 0.2569 - digit0_loss: 0.0283 - digit1_loss: 0.0623 - digit2_loss: 0.0727 - digit3_loss: 0.0617 - digit4_loss: 0.0319 - digit0_accuracy: 0.9643 - digit1_accuracy: 0.9150 - digit2_accuracy: 0.8998 - digit3_accuracy: 0.9136 - digit4_accuracy: 0.9596 - val_loss: 0.1436 - val_digit0_loss: 0.0147 - val_digit1_loss: 0.0337 - val_digit2_loss: 0.0407 - val_digit3_loss: 0.0362 - val_digit4_loss: 0.0183 - val_digit0_accuracy: 0.9801 - val_digit1_accuracy: 0.9575 - val_digit2_accuracy: 0.9523 - val_digit3_accuracy: 0.9534 - val_digit4_accuracy: 0.9765\n",
            "Epoch 8/50\n",
            "319/319 [==============================] - 5s 15ms/step - loss: 0.2184 - digit0_loss: 0.0241 - digit1_loss: 0.0533 - digit2_loss: 0.0609 - digit3_loss: 0.0524 - digit4_loss: 0.0277 - digit0_accuracy: 0.9705 - digit1_accuracy: 0.9304 - digit2_accuracy: 0.9201 - digit3_accuracy: 0.9297 - digit4_accuracy: 0.9656 - val_loss: 0.1205 - val_digit0_loss: 0.0119 - val_digit1_loss: 0.0292 - val_digit2_loss: 0.0332 - val_digit3_loss: 0.0303 - val_digit4_loss: 0.0158 - val_digit0_accuracy: 0.9835 - val_digit1_accuracy: 0.9634 - val_digit2_accuracy: 0.9638 - val_digit3_accuracy: 0.9609 - val_digit4_accuracy: 0.9792\n",
            "Epoch 9/50\n",
            "319/319 [==============================] - 5s 15ms/step - loss: 0.1863 - digit0_loss: 0.0206 - digit1_loss: 0.0456 - digit2_loss: 0.0521 - digit3_loss: 0.0444 - digit4_loss: 0.0237 - digit0_accuracy: 0.9756 - digit1_accuracy: 0.9419 - digit2_accuracy: 0.9354 - digit3_accuracy: 0.9424 - digit4_accuracy: 0.9713 - val_loss: 0.1042 - val_digit0_loss: 0.0101 - val_digit1_loss: 0.0255 - val_digit2_loss: 0.0287 - val_digit3_loss: 0.0264 - val_digit4_loss: 0.0135 - val_digit0_accuracy: 0.9867 - val_digit1_accuracy: 0.9677 - val_digit2_accuracy: 0.9672 - val_digit3_accuracy: 0.9654 - val_digit4_accuracy: 0.9826\n",
            "Epoch 10/50\n",
            "319/319 [==============================] - 5s 15ms/step - loss: 0.1608 - digit0_loss: 0.0173 - digit1_loss: 0.0393 - digit2_loss: 0.0453 - digit3_loss: 0.0384 - digit4_loss: 0.0204 - digit0_accuracy: 0.9800 - digit1_accuracy: 0.9511 - digit2_accuracy: 0.9441 - digit3_accuracy: 0.9513 - digit4_accuracy: 0.9755 - val_loss: 0.0881 - val_digit0_loss: 0.0088 - val_digit1_loss: 0.0214 - val_digit2_loss: 0.0241 - val_digit3_loss: 0.0231 - val_digit4_loss: 0.0106 - val_digit0_accuracy: 0.9885 - val_digit1_accuracy: 0.9695 - val_digit2_accuracy: 0.9726 - val_digit3_accuracy: 0.9665 - val_digit4_accuracy: 0.9848\n",
            "Epoch 11/50\n",
            "319/319 [==============================] - 5s 15ms/step - loss: 0.1449 - digit0_loss: 0.0158 - digit1_loss: 0.0356 - digit2_loss: 0.0405 - digit3_loss: 0.0344 - digit4_loss: 0.0186 - digit0_accuracy: 0.9811 - digit1_accuracy: 0.9560 - digit2_accuracy: 0.9509 - digit3_accuracy: 0.9583 - digit4_accuracy: 0.9763 - val_loss: 0.0802 - val_digit0_loss: 0.0081 - val_digit1_loss: 0.0198 - val_digit2_loss: 0.0211 - val_digit3_loss: 0.0204 - val_digit4_loss: 0.0107 - val_digit0_accuracy: 0.9880 - val_digit1_accuracy: 0.9738 - val_digit2_accuracy: 0.9765 - val_digit3_accuracy: 0.9724 - val_digit4_accuracy: 0.9858\n",
            "Epoch 12/50\n",
            "319/319 [==============================] - 5s 15ms/step - loss: 0.1279 - digit0_loss: 0.0141 - digit1_loss: 0.0317 - digit2_loss: 0.0359 - digit3_loss: 0.0300 - digit4_loss: 0.0164 - digit0_accuracy: 0.9831 - digit1_accuracy: 0.9622 - digit2_accuracy: 0.9584 - digit3_accuracy: 0.9640 - digit4_accuracy: 0.9800 - val_loss: 0.0728 - val_digit0_loss: 0.0081 - val_digit1_loss: 0.0173 - val_digit2_loss: 0.0190 - val_digit3_loss: 0.0187 - val_digit4_loss: 0.0097 - val_digit0_accuracy: 0.9880 - val_digit1_accuracy: 0.9763 - val_digit2_accuracy: 0.9799 - val_digit3_accuracy: 0.9749 - val_digit4_accuracy: 0.9876\n",
            "Epoch 13/50\n",
            "319/319 [==============================] - 5s 15ms/step - loss: 0.1183 - digit0_loss: 0.0128 - digit1_loss: 0.0287 - digit2_loss: 0.0334 - digit3_loss: 0.0288 - digit4_loss: 0.0146 - digit0_accuracy: 0.9857 - digit1_accuracy: 0.9668 - digit2_accuracy: 0.9619 - digit3_accuracy: 0.9652 - digit4_accuracy: 0.9827 - val_loss: 0.0635 - val_digit0_loss: 0.0062 - val_digit1_loss: 0.0150 - val_digit2_loss: 0.0174 - val_digit3_loss: 0.0167 - val_digit4_loss: 0.0082 - val_digit0_accuracy: 0.9900 - val_digit1_accuracy: 0.9803 - val_digit2_accuracy: 0.9801 - val_digit3_accuracy: 0.9776 - val_digit4_accuracy: 0.9882\n",
            "Epoch 14/50\n",
            "319/319 [==============================] - 5s 15ms/step - loss: 0.1063 - digit0_loss: 0.0116 - digit1_loss: 0.0258 - digit2_loss: 0.0303 - digit3_loss: 0.0253 - digit4_loss: 0.0134 - digit0_accuracy: 0.9864 - digit1_accuracy: 0.9705 - digit2_accuracy: 0.9659 - digit3_accuracy: 0.9704 - digit4_accuracy: 0.9848 - val_loss: 0.0628 - val_digit0_loss: 0.0061 - val_digit1_loss: 0.0151 - val_digit2_loss: 0.0165 - val_digit3_loss: 0.0167 - val_digit4_loss: 0.0084 - val_digit0_accuracy: 0.9903 - val_digit1_accuracy: 0.9810 - val_digit2_accuracy: 0.9819 - val_digit3_accuracy: 0.9776 - val_digit4_accuracy: 0.9871\n",
            "Epoch 15/50\n",
            "319/319 [==============================] - 5s 15ms/step - loss: 0.0956 - digit0_loss: 0.0102 - digit1_loss: 0.0231 - digit2_loss: 0.0270 - digit3_loss: 0.0232 - digit4_loss: 0.0120 - digit0_accuracy: 0.9884 - digit1_accuracy: 0.9748 - digit2_accuracy: 0.9715 - digit3_accuracy: 0.9734 - digit4_accuracy: 0.9861 - val_loss: 0.0600 - val_digit0_loss: 0.0064 - val_digit1_loss: 0.0147 - val_digit2_loss: 0.0161 - val_digit3_loss: 0.0150 - val_digit4_loss: 0.0079 - val_digit0_accuracy: 0.9907 - val_digit1_accuracy: 0.9810 - val_digit2_accuracy: 0.9833 - val_digit3_accuracy: 0.9796 - val_digit4_accuracy: 0.9891\n",
            "Epoch 16/50\n",
            "319/319 [==============================] - 5s 15ms/step - loss: 0.0892 - digit0_loss: 0.0095 - digit1_loss: 0.0219 - digit2_loss: 0.0253 - digit3_loss: 0.0210 - digit4_loss: 0.0115 - digit0_accuracy: 0.9895 - digit1_accuracy: 0.9767 - digit2_accuracy: 0.9723 - digit3_accuracy: 0.9769 - digit4_accuracy: 0.9868 - val_loss: 0.0575 - val_digit0_loss: 0.0057 - val_digit1_loss: 0.0135 - val_digit2_loss: 0.0155 - val_digit3_loss: 0.0150 - val_digit4_loss: 0.0077 - val_digit0_accuracy: 0.9910 - val_digit1_accuracy: 0.9808 - val_digit2_accuracy: 0.9796 - val_digit3_accuracy: 0.9787 - val_digit4_accuracy: 0.9880\n",
            "Epoch 17/50\n",
            "319/319 [==============================] - 5s 15ms/step - loss: 0.0842 - digit0_loss: 0.0092 - digit1_loss: 0.0202 - digit2_loss: 0.0236 - digit3_loss: 0.0206 - digit4_loss: 0.0106 - digit0_accuracy: 0.9899 - digit1_accuracy: 0.9780 - digit2_accuracy: 0.9757 - digit3_accuracy: 0.9766 - digit4_accuracy: 0.9887 - val_loss: 0.0526 - val_digit0_loss: 0.0052 - val_digit1_loss: 0.0129 - val_digit2_loss: 0.0133 - val_digit3_loss: 0.0142 - val_digit4_loss: 0.0069 - val_digit0_accuracy: 0.9916 - val_digit1_accuracy: 0.9821 - val_digit2_accuracy: 0.9858 - val_digit3_accuracy: 0.9815 - val_digit4_accuracy: 0.9894\n",
            "Epoch 18/50\n",
            "319/319 [==============================] - 5s 15ms/step - loss: 0.0760 - digit0_loss: 0.0082 - digit1_loss: 0.0188 - digit2_loss: 0.0212 - digit3_loss: 0.0180 - digit4_loss: 0.0098 - digit0_accuracy: 0.9908 - digit1_accuracy: 0.9791 - digit2_accuracy: 0.9791 - digit3_accuracy: 0.9802 - digit4_accuracy: 0.9885 - val_loss: 0.0486 - val_digit0_loss: 0.0048 - val_digit1_loss: 0.0115 - val_digit2_loss: 0.0126 - val_digit3_loss: 0.0131 - val_digit4_loss: 0.0066 - val_digit0_accuracy: 0.9925 - val_digit1_accuracy: 0.9833 - val_digit2_accuracy: 0.9842 - val_digit3_accuracy: 0.9815 - val_digit4_accuracy: 0.9900\n",
            "Epoch 19/50\n",
            "319/319 [==============================] - 5s 15ms/step - loss: 0.0700 - digit0_loss: 0.0077 - digit1_loss: 0.0173 - digit2_loss: 0.0197 - digit3_loss: 0.0168 - digit4_loss: 0.0085 - digit0_accuracy: 0.9910 - digit1_accuracy: 0.9818 - digit2_accuracy: 0.9799 - digit3_accuracy: 0.9825 - digit4_accuracy: 0.9903 - val_loss: 0.0496 - val_digit0_loss: 0.0052 - val_digit1_loss: 0.0117 - val_digit2_loss: 0.0124 - val_digit3_loss: 0.0134 - val_digit4_loss: 0.0068 - val_digit0_accuracy: 0.9925 - val_digit1_accuracy: 0.9819 - val_digit2_accuracy: 0.9873 - val_digit3_accuracy: 0.9796 - val_digit4_accuracy: 0.9900\n",
            "Epoch 20/50\n",
            "319/319 [==============================] - 5s 15ms/step - loss: 0.0678 - digit0_loss: 0.0073 - digit1_loss: 0.0165 - digit2_loss: 0.0191 - digit3_loss: 0.0164 - digit4_loss: 0.0084 - digit0_accuracy: 0.9914 - digit1_accuracy: 0.9829 - digit2_accuracy: 0.9810 - digit3_accuracy: 0.9822 - digit4_accuracy: 0.9907 - val_loss: 0.0496 - val_digit0_loss: 0.0050 - val_digit1_loss: 0.0126 - val_digit2_loss: 0.0118 - val_digit3_loss: 0.0131 - val_digit4_loss: 0.0070 - val_digit0_accuracy: 0.9930 - val_digit1_accuracy: 0.9806 - val_digit2_accuracy: 0.9862 - val_digit3_accuracy: 0.9826 - val_digit4_accuracy: 0.9898\n",
            "Epoch 21/50\n",
            "319/319 [==============================] - 5s 15ms/step - loss: 0.0646 - digit0_loss: 0.0068 - digit1_loss: 0.0158 - digit2_loss: 0.0183 - digit3_loss: 0.0152 - digit4_loss: 0.0084 - digit0_accuracy: 0.9922 - digit1_accuracy: 0.9834 - digit2_accuracy: 0.9821 - digit3_accuracy: 0.9841 - digit4_accuracy: 0.9903 - val_loss: 0.0444 - val_digit0_loss: 0.0042 - val_digit1_loss: 0.0110 - val_digit2_loss: 0.0112 - val_digit3_loss: 0.0115 - val_digit4_loss: 0.0065 - val_digit0_accuracy: 0.9941 - val_digit1_accuracy: 0.9821 - val_digit2_accuracy: 0.9864 - val_digit3_accuracy: 0.9844 - val_digit4_accuracy: 0.9912\n",
            "Epoch 22/50\n",
            "319/319 [==============================] - 5s 15ms/step - loss: 0.0615 - digit0_loss: 0.0068 - digit1_loss: 0.0150 - digit2_loss: 0.0176 - digit3_loss: 0.0146 - digit4_loss: 0.0075 - digit0_accuracy: 0.9919 - digit1_accuracy: 0.9852 - digit2_accuracy: 0.9828 - digit3_accuracy: 0.9850 - digit4_accuracy: 0.9918 - val_loss: 0.0442 - val_digit0_loss: 0.0043 - val_digit1_loss: 0.0110 - val_digit2_loss: 0.0108 - val_digit3_loss: 0.0122 - val_digit4_loss: 0.0060 - val_digit0_accuracy: 0.9934 - val_digit1_accuracy: 0.9839 - val_digit2_accuracy: 0.9869 - val_digit3_accuracy: 0.9839 - val_digit4_accuracy: 0.9903\n",
            "Epoch 23/50\n",
            "319/319 [==============================] - 5s 15ms/step - loss: 0.0579 - digit0_loss: 0.0063 - digit1_loss: 0.0137 - digit2_loss: 0.0165 - digit3_loss: 0.0143 - digit4_loss: 0.0071 - digit0_accuracy: 0.9934 - digit1_accuracy: 0.9871 - digit2_accuracy: 0.9849 - digit3_accuracy: 0.9854 - digit4_accuracy: 0.9924 - val_loss: 0.0427 - val_digit0_loss: 0.0044 - val_digit1_loss: 0.0112 - val_digit2_loss: 0.0107 - val_digit3_loss: 0.0107 - val_digit4_loss: 0.0057 - val_digit0_accuracy: 0.9930 - val_digit1_accuracy: 0.9835 - val_digit2_accuracy: 0.9880 - val_digit3_accuracy: 0.9851 - val_digit4_accuracy: 0.9907\n",
            "Epoch 24/50\n",
            "319/319 [==============================] - 5s 15ms/step - loss: 0.0545 - digit0_loss: 0.0057 - digit1_loss: 0.0135 - digit2_loss: 0.0157 - digit3_loss: 0.0128 - digit4_loss: 0.0068 - digit0_accuracy: 0.9938 - digit1_accuracy: 0.9875 - digit2_accuracy: 0.9854 - digit3_accuracy: 0.9871 - digit4_accuracy: 0.9922 - val_loss: 0.0414 - val_digit0_loss: 0.0043 - val_digit1_loss: 0.0101 - val_digit2_loss: 0.0103 - val_digit3_loss: 0.0112 - val_digit4_loss: 0.0055 - val_digit0_accuracy: 0.9932 - val_digit1_accuracy: 0.9848 - val_digit2_accuracy: 0.9894 - val_digit3_accuracy: 0.9844 - val_digit4_accuracy: 0.9919\n",
            "Epoch 25/50\n",
            "319/319 [==============================] - 5s 15ms/step - loss: 0.0515 - digit0_loss: 0.0055 - digit1_loss: 0.0125 - digit2_loss: 0.0142 - digit3_loss: 0.0125 - digit4_loss: 0.0068 - digit0_accuracy: 0.9940 - digit1_accuracy: 0.9873 - digit2_accuracy: 0.9867 - digit3_accuracy: 0.9873 - digit4_accuracy: 0.9921 - val_loss: 0.0373 - val_digit0_loss: 0.0035 - val_digit1_loss: 0.0095 - val_digit2_loss: 0.0091 - val_digit3_loss: 0.0096 - val_digit4_loss: 0.0055 - val_digit0_accuracy: 0.9948 - val_digit1_accuracy: 0.9873 - val_digit2_accuracy: 0.9898 - val_digit3_accuracy: 0.9878 - val_digit4_accuracy: 0.9912\n",
            "Epoch 26/50\n",
            "319/319 [==============================] - 5s 15ms/step - loss: 0.0495 - digit0_loss: 0.0049 - digit1_loss: 0.0120 - digit2_loss: 0.0144 - digit3_loss: 0.0121 - digit4_loss: 0.0061 - digit0_accuracy: 0.9947 - digit1_accuracy: 0.9888 - digit2_accuracy: 0.9869 - digit3_accuracy: 0.9887 - digit4_accuracy: 0.9933 - val_loss: 0.0412 - val_digit0_loss: 0.0046 - val_digit1_loss: 0.0101 - val_digit2_loss: 0.0103 - val_digit3_loss: 0.0105 - val_digit4_loss: 0.0058 - val_digit0_accuracy: 0.9923 - val_digit1_accuracy: 0.9873 - val_digit2_accuracy: 0.9889 - val_digit3_accuracy: 0.9862 - val_digit4_accuracy: 0.9910\n",
            "Epoch 27/50\n",
            "319/319 [==============================] - 5s 15ms/step - loss: 0.0483 - digit0_loss: 0.0051 - digit1_loss: 0.0115 - digit2_loss: 0.0140 - digit3_loss: 0.0115 - digit4_loss: 0.0062 - digit0_accuracy: 0.9944 - digit1_accuracy: 0.9891 - digit2_accuracy: 0.9872 - digit3_accuracy: 0.9880 - digit4_accuracy: 0.9930 - val_loss: 0.0388 - val_digit0_loss: 0.0037 - val_digit1_loss: 0.0109 - val_digit2_loss: 0.0085 - val_digit3_loss: 0.0105 - val_digit4_loss: 0.0053 - val_digit0_accuracy: 0.9953 - val_digit1_accuracy: 0.9851 - val_digit2_accuracy: 0.9894 - val_digit3_accuracy: 0.9855 - val_digit4_accuracy: 0.9923\n",
            "Epoch 28/50\n",
            "319/319 [==============================] - 5s 15ms/step - loss: 0.0459 - digit0_loss: 0.0052 - digit1_loss: 0.0114 - digit2_loss: 0.0130 - digit3_loss: 0.0105 - digit4_loss: 0.0057 - digit0_accuracy: 0.9944 - digit1_accuracy: 0.9891 - digit2_accuracy: 0.9887 - digit3_accuracy: 0.9892 - digit4_accuracy: 0.9935 - val_loss: 0.0417 - val_digit0_loss: 0.0043 - val_digit1_loss: 0.0097 - val_digit2_loss: 0.0102 - val_digit3_loss: 0.0111 - val_digit4_loss: 0.0064 - val_digit0_accuracy: 0.9946 - val_digit1_accuracy: 0.9880 - val_digit2_accuracy: 0.9876 - val_digit3_accuracy: 0.9844 - val_digit4_accuracy: 0.9923\n",
            "Epoch 29/50\n",
            "319/319 [==============================] - 5s 15ms/step - loss: 0.0449 - digit0_loss: 0.0048 - digit1_loss: 0.0111 - digit2_loss: 0.0130 - digit3_loss: 0.0106 - digit4_loss: 0.0053 - digit0_accuracy: 0.9953 - digit1_accuracy: 0.9897 - digit2_accuracy: 0.9889 - digit3_accuracy: 0.9900 - digit4_accuracy: 0.9947 - val_loss: 0.0393 - val_digit0_loss: 0.0039 - val_digit1_loss: 0.0096 - val_digit2_loss: 0.0094 - val_digit3_loss: 0.0109 - val_digit4_loss: 0.0056 - val_digit0_accuracy: 0.9950 - val_digit1_accuracy: 0.9860 - val_digit2_accuracy: 0.9896 - val_digit3_accuracy: 0.9858 - val_digit4_accuracy: 0.9916\n",
            "Epoch 30/50\n",
            "319/319 [==============================] - 5s 16ms/step - loss: 0.0429 - digit0_loss: 0.0045 - digit1_loss: 0.0105 - digit2_loss: 0.0122 - digit3_loss: 0.0105 - digit4_loss: 0.0052 - digit0_accuracy: 0.9950 - digit1_accuracy: 0.9904 - digit2_accuracy: 0.9893 - digit3_accuracy: 0.9904 - digit4_accuracy: 0.9946 - val_loss: 0.0376 - val_digit0_loss: 0.0035 - val_digit1_loss: 0.0092 - val_digit2_loss: 0.0091 - val_digit3_loss: 0.0102 - val_digit4_loss: 0.0057 - val_digit0_accuracy: 0.9957 - val_digit1_accuracy: 0.9880 - val_digit2_accuracy: 0.9896 - val_digit3_accuracy: 0.9858 - val_digit4_accuracy: 0.9921\n",
            "Epoch 31/50\n",
            "319/319 [==============================] - 5s 15ms/step - loss: 0.0440 - digit0_loss: 0.0050 - digit1_loss: 0.0105 - digit2_loss: 0.0129 - digit3_loss: 0.0102 - digit4_loss: 0.0054 - digit0_accuracy: 0.9943 - digit1_accuracy: 0.9904 - digit2_accuracy: 0.9887 - digit3_accuracy: 0.9904 - digit4_accuracy: 0.9944 - val_loss: 0.0389 - val_digit0_loss: 0.0042 - val_digit1_loss: 0.0095 - val_digit2_loss: 0.0088 - val_digit3_loss: 0.0108 - val_digit4_loss: 0.0055 - val_digit0_accuracy: 0.9937 - val_digit1_accuracy: 0.9858 - val_digit2_accuracy: 0.9910 - val_digit3_accuracy: 0.9851 - val_digit4_accuracy: 0.9905\n",
            "Epoch 32/50\n",
            "319/319 [==============================] - 5s 16ms/step - loss: 0.0404 - digit0_loss: 0.0045 - digit1_loss: 0.0097 - digit2_loss: 0.0118 - digit3_loss: 0.0096 - digit4_loss: 0.0048 - digit0_accuracy: 0.9953 - digit1_accuracy: 0.9915 - digit2_accuracy: 0.9902 - digit3_accuracy: 0.9908 - digit4_accuracy: 0.9947 - val_loss: 0.0417 - val_digit0_loss: 0.0052 - val_digit1_loss: 0.0097 - val_digit2_loss: 0.0090 - val_digit3_loss: 0.0112 - val_digit4_loss: 0.0065 - val_digit0_accuracy: 0.9932 - val_digit1_accuracy: 0.9848 - val_digit2_accuracy: 0.9891 - val_digit3_accuracy: 0.9855 - val_digit4_accuracy: 0.9912\n",
            "Epoch 33/50\n",
            "319/319 [==============================] - 5s 16ms/step - loss: 0.0377 - digit0_loss: 0.0040 - digit1_loss: 0.0096 - digit2_loss: 0.0104 - digit3_loss: 0.0091 - digit4_loss: 0.0045 - digit0_accuracy: 0.9958 - digit1_accuracy: 0.9915 - digit2_accuracy: 0.9916 - digit3_accuracy: 0.9915 - digit4_accuracy: 0.9955 - val_loss: 0.0348 - val_digit0_loss: 0.0033 - val_digit1_loss: 0.0087 - val_digit2_loss: 0.0086 - val_digit3_loss: 0.0094 - val_digit4_loss: 0.0048 - val_digit0_accuracy: 0.9959 - val_digit1_accuracy: 0.9878 - val_digit2_accuracy: 0.9894 - val_digit3_accuracy: 0.9864 - val_digit4_accuracy: 0.9925\n",
            "Epoch 34/50\n",
            "319/319 [==============================] - 5s 16ms/step - loss: 0.0370 - digit0_loss: 0.0041 - digit1_loss: 0.0090 - digit2_loss: 0.0106 - digit3_loss: 0.0090 - digit4_loss: 0.0043 - digit0_accuracy: 0.9957 - digit1_accuracy: 0.9925 - digit2_accuracy: 0.9914 - digit3_accuracy: 0.9923 - digit4_accuracy: 0.9955 - val_loss: 0.0399 - val_digit0_loss: 0.0042 - val_digit1_loss: 0.0102 - val_digit2_loss: 0.0097 - val_digit3_loss: 0.0104 - val_digit4_loss: 0.0055 - val_digit0_accuracy: 0.9932 - val_digit1_accuracy: 0.9862 - val_digit2_accuracy: 0.9894 - val_digit3_accuracy: 0.9867 - val_digit4_accuracy: 0.9923\n",
            "Epoch 35/50\n",
            "319/319 [==============================] - 5s 15ms/step - loss: 0.0384 - digit0_loss: 0.0042 - digit1_loss: 0.0096 - digit2_loss: 0.0109 - digit3_loss: 0.0087 - digit4_loss: 0.0050 - digit0_accuracy: 0.9958 - digit1_accuracy: 0.9917 - digit2_accuracy: 0.9913 - digit3_accuracy: 0.9915 - digit4_accuracy: 0.9944 - val_loss: 0.0355 - val_digit0_loss: 0.0036 - val_digit1_loss: 0.0086 - val_digit2_loss: 0.0084 - val_digit3_loss: 0.0096 - val_digit4_loss: 0.0053 - val_digit0_accuracy: 0.9939 - val_digit1_accuracy: 0.9876 - val_digit2_accuracy: 0.9905 - val_digit3_accuracy: 0.9885 - val_digit4_accuracy: 0.9925\n",
            "Epoch 36/50\n",
            "319/319 [==============================] - 5s 15ms/step - loss: 0.0349 - digit0_loss: 0.0039 - digit1_loss: 0.0086 - digit2_loss: 0.0101 - digit3_loss: 0.0083 - digit4_loss: 0.0041 - digit0_accuracy: 0.9961 - digit1_accuracy: 0.9929 - digit2_accuracy: 0.9917 - digit3_accuracy: 0.9926 - digit4_accuracy: 0.9958 - val_loss: 0.0386 - val_digit0_loss: 0.0047 - val_digit1_loss: 0.0096 - val_digit2_loss: 0.0087 - val_digit3_loss: 0.0103 - val_digit4_loss: 0.0054 - val_digit0_accuracy: 0.9932 - val_digit1_accuracy: 0.9867 - val_digit2_accuracy: 0.9910 - val_digit3_accuracy: 0.9869 - val_digit4_accuracy: 0.9914\n",
            "Epoch 37/50\n",
            "319/319 [==============================] - 5s 15ms/step - loss: 0.0359 - digit0_loss: 0.0038 - digit1_loss: 0.0088 - digit2_loss: 0.0104 - digit3_loss: 0.0086 - digit4_loss: 0.0044 - digit0_accuracy: 0.9957 - digit1_accuracy: 0.9923 - digit2_accuracy: 0.9912 - digit3_accuracy: 0.9920 - digit4_accuracy: 0.9954 - val_loss: 0.0386 - val_digit0_loss: 0.0048 - val_digit1_loss: 0.0089 - val_digit2_loss: 0.0086 - val_digit3_loss: 0.0104 - val_digit4_loss: 0.0059 - val_digit0_accuracy: 0.9937 - val_digit1_accuracy: 0.9880 - val_digit2_accuracy: 0.9914 - val_digit3_accuracy: 0.9871 - val_digit4_accuracy: 0.9910\n",
            "Epoch 38/50\n",
            "319/319 [==============================] - 5s 16ms/step - loss: 0.0339 - digit0_loss: 0.0035 - digit1_loss: 0.0079 - digit2_loss: 0.0098 - digit3_loss: 0.0083 - digit4_loss: 0.0044 - digit0_accuracy: 0.9967 - digit1_accuracy: 0.9929 - digit2_accuracy: 0.9928 - digit3_accuracy: 0.9925 - digit4_accuracy: 0.9954 - val_loss: 0.0400 - val_digit0_loss: 0.0045 - val_digit1_loss: 0.0102 - val_digit2_loss: 0.0092 - val_digit3_loss: 0.0099 - val_digit4_loss: 0.0062 - val_digit0_accuracy: 0.9932 - val_digit1_accuracy: 0.9848 - val_digit2_accuracy: 0.9912 - val_digit3_accuracy: 0.9869 - val_digit4_accuracy: 0.9910\n",
            "Epoch 39/50\n",
            "319/319 [==============================] - 5s 15ms/step - loss: 0.0324 - digit0_loss: 0.0034 - digit1_loss: 0.0078 - digit2_loss: 0.0094 - digit3_loss: 0.0078 - digit4_loss: 0.0039 - digit0_accuracy: 0.9964 - digit1_accuracy: 0.9928 - digit2_accuracy: 0.9924 - digit3_accuracy: 0.9932 - digit4_accuracy: 0.9961 - val_loss: 0.0377 - val_digit0_loss: 0.0042 - val_digit1_loss: 0.0100 - val_digit2_loss: 0.0084 - val_digit3_loss: 0.0103 - val_digit4_loss: 0.0048 - val_digit0_accuracy: 0.9955 - val_digit1_accuracy: 0.9860 - val_digit2_accuracy: 0.9903 - val_digit3_accuracy: 0.9867 - val_digit4_accuracy: 0.9925\n",
            "Epoch 40/50\n",
            "319/319 [==============================] - 5s 15ms/step - loss: 0.0318 - digit0_loss: 0.0035 - digit1_loss: 0.0079 - digit2_loss: 0.0093 - digit3_loss: 0.0072 - digit4_loss: 0.0040 - digit0_accuracy: 0.9961 - digit1_accuracy: 0.9941 - digit2_accuracy: 0.9930 - digit3_accuracy: 0.9940 - digit4_accuracy: 0.9961 - val_loss: 0.0367 - val_digit0_loss: 0.0039 - val_digit1_loss: 0.0091 - val_digit2_loss: 0.0092 - val_digit3_loss: 0.0100 - val_digit4_loss: 0.0046 - val_digit0_accuracy: 0.9959 - val_digit1_accuracy: 0.9869 - val_digit2_accuracy: 0.9889 - val_digit3_accuracy: 0.9885 - val_digit4_accuracy: 0.9928\n",
            "Epoch 41/50\n",
            "319/319 [==============================] - 5s 16ms/step - loss: 0.0324 - digit0_loss: 0.0039 - digit1_loss: 0.0082 - digit2_loss: 0.0092 - digit3_loss: 0.0072 - digit4_loss: 0.0039 - digit0_accuracy: 0.9963 - digit1_accuracy: 0.9936 - digit2_accuracy: 0.9933 - digit3_accuracy: 0.9938 - digit4_accuracy: 0.9958 - val_loss: 0.0373 - val_digit0_loss: 0.0036 - val_digit1_loss: 0.0103 - val_digit2_loss: 0.0082 - val_digit3_loss: 0.0105 - val_digit4_loss: 0.0047 - val_digit0_accuracy: 0.9939 - val_digit1_accuracy: 0.9853 - val_digit2_accuracy: 0.9903 - val_digit3_accuracy: 0.9871 - val_digit4_accuracy: 0.9937\n",
            "Epoch 42/50\n",
            "319/319 [==============================] - 5s 15ms/step - loss: 0.0323 - digit0_loss: 0.0036 - digit1_loss: 0.0077 - digit2_loss: 0.0093 - digit3_loss: 0.0078 - digit4_loss: 0.0038 - digit0_accuracy: 0.9963 - digit1_accuracy: 0.9938 - digit2_accuracy: 0.9933 - digit3_accuracy: 0.9931 - digit4_accuracy: 0.9966 - val_loss: 0.0378 - val_digit0_loss: 0.0042 - val_digit1_loss: 0.0102 - val_digit2_loss: 0.0087 - val_digit3_loss: 0.0097 - val_digit4_loss: 0.0050 - val_digit0_accuracy: 0.9941 - val_digit1_accuracy: 0.9858 - val_digit2_accuracy: 0.9898 - val_digit3_accuracy: 0.9873 - val_digit4_accuracy: 0.9934\n",
            "Epoch 43/50\n",
            "319/319 [==============================] - 5s 16ms/step - loss: 0.0313 - digit0_loss: 0.0031 - digit1_loss: 0.0076 - digit2_loss: 0.0092 - digit3_loss: 0.0074 - digit4_loss: 0.0040 - digit0_accuracy: 0.9967 - digit1_accuracy: 0.9934 - digit2_accuracy: 0.9929 - digit3_accuracy: 0.9935 - digit4_accuracy: 0.9960 - val_loss: 0.0324 - val_digit0_loss: 0.0033 - val_digit1_loss: 0.0086 - val_digit2_loss: 0.0078 - val_digit3_loss: 0.0087 - val_digit4_loss: 0.0040 - val_digit0_accuracy: 0.9955 - val_digit1_accuracy: 0.9873 - val_digit2_accuracy: 0.9903 - val_digit3_accuracy: 0.9894 - val_digit4_accuracy: 0.9941\n",
            "Epoch 44/50\n",
            "319/319 [==============================] - 5s 16ms/step - loss: 0.0301 - digit0_loss: 0.0033 - digit1_loss: 0.0072 - digit2_loss: 0.0086 - digit3_loss: 0.0073 - digit4_loss: 0.0037 - digit0_accuracy: 0.9967 - digit1_accuracy: 0.9940 - digit2_accuracy: 0.9941 - digit3_accuracy: 0.9935 - digit4_accuracy: 0.9964 - val_loss: 0.0420 - val_digit0_loss: 0.0057 - val_digit1_loss: 0.0109 - val_digit2_loss: 0.0091 - val_digit3_loss: 0.0107 - val_digit4_loss: 0.0055 - val_digit0_accuracy: 0.9912 - val_digit1_accuracy: 0.9835 - val_digit2_accuracy: 0.9887 - val_digit3_accuracy: 0.9851 - val_digit4_accuracy: 0.9916\n",
            "Epoch 45/50\n",
            "319/319 [==============================] - 5s 16ms/step - loss: 0.0313 - digit0_loss: 0.0034 - digit1_loss: 0.0078 - digit2_loss: 0.0091 - digit3_loss: 0.0070 - digit4_loss: 0.0040 - digit0_accuracy: 0.9965 - digit1_accuracy: 0.9935 - digit2_accuracy: 0.9931 - digit3_accuracy: 0.9940 - digit4_accuracy: 0.9958 - val_loss: 0.0315 - val_digit0_loss: 0.0028 - val_digit1_loss: 0.0086 - val_digit2_loss: 0.0070 - val_digit3_loss: 0.0086 - val_digit4_loss: 0.0045 - val_digit0_accuracy: 0.9968 - val_digit1_accuracy: 0.9882 - val_digit2_accuracy: 0.9923 - val_digit3_accuracy: 0.9894 - val_digit4_accuracy: 0.9946\n",
            "Epoch 46/50\n",
            "319/319 [==============================] - 5s 16ms/step - loss: 0.0286 - digit0_loss: 0.0030 - digit1_loss: 0.0069 - digit2_loss: 0.0082 - digit3_loss: 0.0069 - digit4_loss: 0.0036 - digit0_accuracy: 0.9971 - digit1_accuracy: 0.9948 - digit2_accuracy: 0.9945 - digit3_accuracy: 0.9945 - digit4_accuracy: 0.9968 - val_loss: 0.0332 - val_digit0_loss: 0.0032 - val_digit1_loss: 0.0082 - val_digit2_loss: 0.0079 - val_digit3_loss: 0.0095 - val_digit4_loss: 0.0044 - val_digit0_accuracy: 0.9968 - val_digit1_accuracy: 0.9896 - val_digit2_accuracy: 0.9916 - val_digit3_accuracy: 0.9896 - val_digit4_accuracy: 0.9943\n",
            "Epoch 47/50\n",
            "319/319 [==============================] - 5s 16ms/step - loss: 0.0297 - digit0_loss: 0.0031 - digit1_loss: 0.0070 - digit2_loss: 0.0087 - digit3_loss: 0.0073 - digit4_loss: 0.0036 - digit0_accuracy: 0.9966 - digit1_accuracy: 0.9946 - digit2_accuracy: 0.9945 - digit3_accuracy: 0.9939 - digit4_accuracy: 0.9963 - val_loss: 0.0399 - val_digit0_loss: 0.0052 - val_digit1_loss: 0.0094 - val_digit2_loss: 0.0094 - val_digit3_loss: 0.0110 - val_digit4_loss: 0.0051 - val_digit0_accuracy: 0.9930 - val_digit1_accuracy: 0.9880 - val_digit2_accuracy: 0.9878 - val_digit3_accuracy: 0.9860 - val_digit4_accuracy: 0.9932\n",
            "Epoch 48/50\n",
            "319/319 [==============================] - 5s 16ms/step - loss: 0.0281 - digit0_loss: 0.0032 - digit1_loss: 0.0064 - digit2_loss: 0.0080 - digit3_loss: 0.0071 - digit4_loss: 0.0033 - digit0_accuracy: 0.9967 - digit1_accuracy: 0.9951 - digit2_accuracy: 0.9943 - digit3_accuracy: 0.9939 - digit4_accuracy: 0.9971 - val_loss: 0.0345 - val_digit0_loss: 0.0039 - val_digit1_loss: 0.0084 - val_digit2_loss: 0.0081 - val_digit3_loss: 0.0091 - val_digit4_loss: 0.0050 - val_digit0_accuracy: 0.9946 - val_digit1_accuracy: 0.9889 - val_digit2_accuracy: 0.9925 - val_digit3_accuracy: 0.9871 - val_digit4_accuracy: 0.9941\n",
            "Epoch 49/50\n",
            "319/319 [==============================] - 5s 16ms/step - loss: 0.0283 - digit0_loss: 0.0031 - digit1_loss: 0.0068 - digit2_loss: 0.0081 - digit3_loss: 0.0067 - digit4_loss: 0.0037 - digit0_accuracy: 0.9971 - digit1_accuracy: 0.9948 - digit2_accuracy: 0.9939 - digit3_accuracy: 0.9943 - digit4_accuracy: 0.9962 - val_loss: 0.0347 - val_digit0_loss: 0.0045 - val_digit1_loss: 0.0085 - val_digit2_loss: 0.0077 - val_digit3_loss: 0.0092 - val_digit4_loss: 0.0049 - val_digit0_accuracy: 0.9934 - val_digit1_accuracy: 0.9896 - val_digit2_accuracy: 0.9928 - val_digit3_accuracy: 0.9891 - val_digit4_accuracy: 0.9925\n",
            "Epoch 50/50\n",
            "319/319 [==============================] - 5s 16ms/step - loss: 0.0261 - digit0_loss: 0.0027 - digit1_loss: 0.0063 - digit2_loss: 0.0074 - digit3_loss: 0.0063 - digit4_loss: 0.0034 - digit0_accuracy: 0.9972 - digit1_accuracy: 0.9947 - digit2_accuracy: 0.9948 - digit3_accuracy: 0.9945 - digit4_accuracy: 0.9967 - val_loss: 0.0329 - val_digit0_loss: 0.0031 - val_digit1_loss: 0.0074 - val_digit2_loss: 0.0083 - val_digit3_loss: 0.0093 - val_digit4_loss: 0.0049 - val_digit0_accuracy: 0.9971 - val_digit1_accuracy: 0.9894 - val_digit2_accuracy: 0.9925 - val_digit3_accuracy: 0.9882 - val_digit4_accuracy: 0.9934\n"
          ]
        }
      ]
    },
    {
      "cell_type": "code",
      "metadata": {
        "id": "PK5FjnNp63eL"
      },
      "source": [
        "digit_acc = [[] for _ in range(NUM_OF_LETTERS)]\n",
        "val_digit_acc = [[] for _ in range(NUM_OF_LETTERS)]\n",
        "loss = []\n",
        "val_loss = []\n",
        "\n",
        "\n",
        "def plot_diagram(digit_acc_now, val_digit_acc_now, loss_now, val_loss_now):\n",
        "    global digit_acc, val_digit_acc, loss, val_loss\n",
        "    \n",
        "    for i in range(NUM_OF_LETTERS):\n",
        "        digit_acc[i].extend(digit_acc_now[i])\n",
        "        val_digit_acc[i].extend(val_digit_acc_now[i])\n",
        "    loss.extend(loss_now)\n",
        "    val_loss.extend(val_loss_now)\n",
        "    \n",
        "    for i in range(NUM_OF_LETTERS):\n",
        "        s = {0:'First', 1:'Second', 2:'Third', 3:'Fourth', 4:'Fifth'}[i]\n",
        "        # plt.plot(val_digit_acc[i], label='%s Digit Train' % s)\n",
        "        plt.plot(digit_acc[i], label='%s Digit Test' % s)\n",
        "\n",
        "    plt.title('Model accuracy')\n",
        "    plt.ylabel('Accuracy')\n",
        "    plt.xlabel('Epoch')\n",
        "    plt.legend()\n",
        "    plt.show()\n",
        "\n",
        "    for i in range(NUM_OF_LETTERS):\n",
        "        s = {0:'First', 1:'Second', 2:'Third', 3:'Fourth', 4:'Fifth'}[i]\n",
        "        plt.plot(val_digit_acc[i], label='%s Digit Train' % s)\n",
        "        # plt.plot(digit_acc[i], label='%s Digit Test' % s)\n",
        "\n",
        "    plt.title('Model accuracy')\n",
        "    plt.ylabel('Accuracy')\n",
        "    plt.xlabel('Epoch')\n",
        "    plt.legend()\n",
        "    plt.show()\n",
        "\n",
        "\n",
        "\n",
        "    # Plot training & validation loss values\n",
        "    plt.plot(val_loss, label='Train')\n",
        "    plt.plot(loss, label='Test')\n",
        "    plt.title('Model loss')\n",
        "    plt.ylabel('Loss')\n",
        "    plt.xlabel('Epoch')\n",
        "    plt.legend()\n",
        "    plt.show()"
      ],
      "execution_count": 16,
      "outputs": []
    },
    {
      "cell_type": "code",
      "metadata": {
        "id": "gmz3c1Ve8xG1",
        "colab": {
          "base_uri": "https://localhost:8080/",
          "height": 851
        },
        "outputId": "66b93eb9-39d4-4e43-c6b5-804deee03af2"
      },
      "source": [
        "plot_diagram(\n",
        "    \n",
        "    [history.history['digit%d_accuracy' % i] for i in range(NUM_OF_LETTERS)],\n",
        "    [history.history['val_digit%d_accuracy' % i] for i in range(NUM_OF_LETTERS)],\n",
        "    history.history['loss'],\n",
        "    history.history['val_loss'],\n",
        ")"
      ],
      "execution_count": 17,
      "outputs": [
        {
          "output_type": "display_data",
          "data": {
            "text/plain": [
              "<Figure size 432x288 with 1 Axes>"
            ],
            "image/png": "[encoded data removed]"
          },
          "metadata": {
            "needs_background": "light"
          }
        },
        {
          "output_type": "display_data",
          "data": {
            "text/plain": [
              "<Figure size 432x288 with 1 Axes>"
            ],
            "image/png": "[encoded data removed]"
          },
          "metadata": {
            "needs_background": "light"
          }
        },
        {
          "output_type": "display_data",
          "data": {
            "text/plain": [
              "<Figure size 432x288 with 1 Axes>"
            ],
            "image/png": "[encoded data removed]"
          },
          "metadata": {
            "needs_background": "light"
          }
        }
      ]
    },
    {
      "cell_type": "code",
      "metadata": {
        "id": "MQIbUVBY6-SG",
        "colab": {
          "base_uri": "https://localhost:8080/"
        },
        "outputId": "e4a25ba1-ddfe-460a-b553-5b1495695021"
      },
      "source": [
        "# Save model and weights\n",
        "if not os.path.isdir(save_dir):\n",
        "    os.makedirs(save_dir)\n",
        "model_path = os.path.join(save_dir, model_name)\n",
        "model.save(model_path)\n",
        "print('Saved trained model at %s ' % model_path)"
      ],
      "execution_count": 18,
      "outputs": [
        {
          "output_type": "stream",
          "name": "stdout",
          "text": [
            "Saved trained model at /content/saved_models/keras_cifar10_trained_model.h5 \n"
          ]
        }
      ]
    },
    {
      "cell_type": "code",
      "metadata": {
        "id": "x8cshRKD7Bak",
        "colab": {
          "base_uri": "https://localhost:8080/"
        },
        "outputId": "a400bb3f-595d-400e-caa9-dd0b1c76b20c"
      },
      "source": [
        "# Score trained model.\n",
        "scores = model.evaluate(x_train, s_train, verbose=1)\n",
        "print('Train loss:     %f' % np.mean(scores[0:5]))\n",
        "acc = 1.\n",
        "for i in range(5):\n",
        "    acc *= scores[6+i]\n",
        "print('Train accuracy: %.2f' % (acc * 100.))"
      ],
      "execution_count": 19,
      "outputs": [
        {
          "output_type": "stream",
          "name": "stdout",
          "text": [
            "1276/1276 [==============================] - 8s 6ms/step - loss: 0.0037 - digit0_loss: 5.1835e-04 - digit1_loss: 8.4254e-04 - digit2_loss: 9.9022e-04 - digit3_loss: 9.1617e-04 - digit4_loss: 4.0760e-04 - digit0_accuracy: 0.9992 - digit1_accuracy: 0.9996 - digit2_accuracy: 0.9996 - digit3_accuracy: 0.9996 - digit4_accuracy: 0.9995\n",
            "Train loss:     0.001388\n",
            "Train accuracy: 99.76\n"
          ]
        }
      ]
    },
    {
      "cell_type": "code",
      "metadata": {
        "id": "yfQ_5Ago7EWh",
        "colab": {
          "base_uri": "https://localhost:8080/"
        },
        "outputId": "79af5e7d-3dd9-4098-c968-65913edf0737"
      },
      "source": [
        "scores = model.evaluate(x_test, s_test, verbose=1)\n",
        "print('Test loss:     %f' % np.mean(scores[0:5]))\n",
        "acc = 1.\n",
        "for i in range(5):\n",
        "    acc *= scores[6+i]\n",
        "print('Test accuracy: %.2f' % (acc * 100.))"
      ],
      "execution_count": 20,
      "outputs": [
        {
          "output_type": "stream",
          "name": "stdout",
          "text": [
            "139/139 [==============================] - 1s 7ms/step - loss: 0.0329 - digit0_loss: 0.0031 - digit1_loss: 0.0074 - digit2_loss: 0.0083 - digit3_loss: 0.0093 - digit4_loss: 0.0049 - digit0_accuracy: 0.9971 - digit1_accuracy: 0.9894 - digit2_accuracy: 0.9925 - digit3_accuracy: 0.9882 - digit4_accuracy: 0.9934\n",
            "Test loss:     0.012177\n",
            "Test accuracy: 96.12\n"
          ]
        }
      ]
    }
  ]
}